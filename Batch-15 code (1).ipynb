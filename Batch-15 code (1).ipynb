{
 "cells": [
  {
   "cell_type": "code",
   "execution_count": 6,
   "id": "f5f754eb",
   "metadata": {},
   "outputs": [],
   "source": [
    "# This Python 3 environment comes with many helpful analytics libraries installed\n",
    "# It is defined by the kaggle/python Docker image: https://github.com/kaggle/docker-python\n",
    "# For example, here's several helpful packages to load\n",
    "\n",
    "import numpy as np # linear algebra\n",
    "import pandas as pd # data processing, CSV file I/O (e.g. pd.read_csv)\n",
    "\n",
    "# Input data files are available in the read-only \"../input/\" directory\n",
    "# For example, running this (by clicking run or pressing Shift+Enter) will list all files under the input directory\n",
    "\n",
    "import os\n",
    "for dirname, _, filenames in os.walk('/kaggle/input'):\n",
    "    for filename in filenames:\n",
    "        print(os.path.join(dirname, filename))\n",
    "\n",
    "# You can write up to 5GB to the current directory (/kaggle/working/) that gets preserved as output when you create a version using \"Save & Run All\" \n",
    "# You can also write temporary files to /kaggle/temp/, but they won't be saved outside of the current session"
   ]
  },
  {
   "cell_type": "code",
   "execution_count": 7,
   "id": "d71f95ce",
   "metadata": {},
   "outputs": [],
   "source": [
    "from sklearn.model_selection import train_test_split\n",
    "import tensorflow as tf\n",
    "from tensorflow import keras\n",
    "from keras.layers import Activation\n",
    "from keras.layers import Conv2D, BatchNormalization, Dense, Flatten, Reshape"
   ]
  },
  {
   "cell_type": "code",
   "execution_count": 8,
   "id": "7b9d5a8b",
   "metadata": {},
   "outputs": [
    {
     "data": {
      "text/html": [
       "<div>\n",
       "<style scoped>\n",
       "    .dataframe tbody tr th:only-of-type {\n",
       "        vertical-align: middle;\n",
       "    }\n",
       "\n",
       "    .dataframe tbody tr th {\n",
       "        vertical-align: top;\n",
       "    }\n",
       "\n",
       "    .dataframe thead th {\n",
       "        text-align: right;\n",
       "    }\n",
       "</style>\n",
       "<table border=\"1\" class=\"dataframe\">\n",
       "  <thead>\n",
       "    <tr style=\"text-align: right;\">\n",
       "      <th></th>\n",
       "      <th>quizzes</th>\n",
       "      <th>solutions</th>\n",
       "    </tr>\n",
       "  </thead>\n",
       "  <tbody>\n",
       "    <tr>\n",
       "      <th>0</th>\n",
       "      <td>0043002090050090010700600430060020871900074000...</td>\n",
       "      <td>8643712593258497619712658434361925871986574322...</td>\n",
       "    </tr>\n",
       "    <tr>\n",
       "      <th>1</th>\n",
       "      <td>0401000501070039605200080000000000170009068008...</td>\n",
       "      <td>3461792581875239645296483719658324174729168358...</td>\n",
       "    </tr>\n",
       "    <tr>\n",
       "      <th>2</th>\n",
       "      <td>6001203840084590720000060050002640300700800069...</td>\n",
       "      <td>6951273841384596727248369158512647392739815469...</td>\n",
       "    </tr>\n",
       "    <tr>\n",
       "      <th>3</th>\n",
       "      <td>4972000001004000050000160986203000403009000000...</td>\n",
       "      <td>4972583161864397252537164986293815473759641828...</td>\n",
       "    </tr>\n",
       "    <tr>\n",
       "      <th>4</th>\n",
       "      <td>0059103080094030600275001000300002010008200070...</td>\n",
       "      <td>4659123781894735623275681497386452919548216372...</td>\n",
       "    </tr>\n",
       "  </tbody>\n",
       "</table>\n",
       "</div>"
      ],
      "text/plain": [
       "                                             quizzes  \\\n",
       "0  0043002090050090010700600430060020871900074000...   \n",
       "1  0401000501070039605200080000000000170009068008...   \n",
       "2  6001203840084590720000060050002640300700800069...   \n",
       "3  4972000001004000050000160986203000403009000000...   \n",
       "4  0059103080094030600275001000300002010008200070...   \n",
       "\n",
       "                                           solutions  \n",
       "0  8643712593258497619712658434361925871986574322...  \n",
       "1  3461792581875239645296483719658324174729168358...  \n",
       "2  6951273841384596727248369158512647392739815469...  \n",
       "3  4972583161864397252537164986293815473759641828...  \n",
       "4  4659123781894735623275681497386452919548216372...  "
      ]
     },
     "execution_count": 8,
     "metadata": {},
     "output_type": "execute_result"
    }
   ],
   "source": [
    "df = pd.read_csv('sudoku.csv.Zip')\n",
    "df.head()"
   ]
  },
  {
   "cell_type": "code",
   "execution_count": 9,
   "id": "1abfcb2a",
   "metadata": {},
   "outputs": [],
   "source": [
    "que = df['quizzes'].values\n",
    "soln = df['solutions']"
   ]
  },
  {
   "cell_type": "code",
   "execution_count": 10,
   "id": "e978aefb",
   "metadata": {},
   "outputs": [],
   "source": [
    "feat = []\n",
    "label = []\n",
    "\n",
    "for i in que:\n",
    "\n",
    "    x = np.array([int(j) for j in i]).reshape((9,9,1))\n",
    "    feat.append(x)\n",
    "\n",
    "feat = np.array(feat)\n",
    "feat = feat/9\n",
    "feat -= .5    \n",
    "\n",
    "for i in soln:\n",
    "\n",
    "    x = np.array([int(j) for j in i]).reshape((81,1)) - 1\n",
    "    label.append(x)   \n",
    "\n",
    "label = np.array(label)"
   ]
  },
  {
   "cell_type": "code",
   "execution_count": 11,
   "id": "5e2006e3",
   "metadata": {},
   "outputs": [],
   "source": [
    "X_train, X_test, y_train, y_test = train_test_split(feat,label, test_size=0.33, random_state=42)"
   ]
  },
  {
   "cell_type": "code",
   "execution_count": 12,
   "id": "fb95e322",
   "metadata": {},
   "outputs": [],
   "source": [
    "def get_model():\n",
    "\n",
    "    model = keras.models.Sequential()\n",
    "\n",
    "    model.add(Conv2D(64, kernel_size=(3,3), activation='relu', padding='same', input_shape=(9,9,1)))\n",
    "    model.add(BatchNormalization())\n",
    "    model.add(Conv2D(64, kernel_size=(3,3), activation='relu', padding='same'))\n",
    "    model.add(BatchNormalization())\n",
    "    model.add(Conv2D(128, kernel_size=(1,1), activation='relu', padding='same'))\n",
    "\n",
    "    model.add(Flatten())\n",
    "    model.add(Dense(81*9))\n",
    "    model.add(Reshape((-1, 9)))\n",
    "    model.add(Activation('softmax'))\n",
    "    \n",
    "    return model"
   ]
  },
  {
   "cell_type": "code",
   "execution_count": 13,
   "id": "763fd2e1",
   "metadata": {},
   "outputs": [],
   "source": [
    "model = get_model()"
   ]
  },
  {
   "cell_type": "code",
   "execution_count": 14,
   "id": "f7fd095a",
   "metadata": {},
   "outputs": [
    {
     "name": "stderr",
     "output_type": "stream",
     "text": [
      "C:\\Users\\SIVA\\anaconda3\\envs\\tensorflow\\lib\\site-packages\\keras\\optimizer_v2\\optimizer_v2.py:355: UserWarning: The `lr` argument is deprecated, use `learning_rate` instead.\n",
      "  warnings.warn(\n"
     ]
    },
    {
     "name": "stdout",
     "output_type": "stream",
     "text": [
      "20938/20938 [==============================] - 2189s 104ms/step - loss: 0.4565\n"
     ]
    },
    {
     "data": {
      "text/plain": [
       "<keras.callbacks.History at 0x1ea8b50aac0>"
      ]
     },
     "execution_count": 14,
     "metadata": {},
     "output_type": "execute_result"
    }
   ],
   "source": [
    "adam = keras.optimizers.Adam(lr=.001)\n",
    "model.compile(loss='sparse_categorical_crossentropy', optimizer=adam)\n",
    "\n",
    "model.fit(X_train, y_train, batch_size=32, epochs=1)"
   ]
  },
  {
   "cell_type": "code",
   "execution_count": 16,
   "id": "55da4ae1",
   "metadata": {},
   "outputs": [],
   "source": [
    "def denorm(a):\n",
    "    \n",
    "    return (a+.5)*9"
   ]
  },
  {
   "cell_type": "code",
   "execution_count": 17,
   "id": "aecb7047",
   "metadata": {},
   "outputs": [],
   "source": [
    "def norm(a):\n",
    "    \n",
    "    return (a/9)-.5"
   ]
  },
  {
   "cell_type": "code",
   "execution_count": 18,
   "id": "0e07f2fe",
   "metadata": {},
   "outputs": [],
   "source": [
    "import copy"
   ]
  },
  {
   "cell_type": "code",
   "execution_count": 19,
   "id": "241f8a15",
   "metadata": {},
   "outputs": [],
   "source": [
    "def inference_sudoku(sample):\n",
    "    \n",
    "    '''\n",
    "        This function solve the sudoku by filling blank positions one by one.\n",
    "    '''\n",
    "    \n",
    "    feat = copy.copy(sample)\n",
    "    \n",
    "    while(1):\n",
    "        \n",
    "        #predicting values\n",
    "        out = model.predict(feat.reshape((1,9,9,1)))  \n",
    "        out = out.squeeze()\n",
    "\n",
    "        #getting predicted values\n",
    "        pred = np.argmax(out, axis=1).reshape((9,9))+1 \n",
    "        #getting probablity of each values\n",
    "        prob = np.around(np.max(out, axis=1).reshape((9,9)), 2) \n",
    "        \n",
    "        #creating mask for blank values\n",
    "        feat = denorm(feat).reshape((9,9))\n",
    "        #i.e it will give you a 2d array with True/1 and False/0 where 0 is found and where 0 is not found respectively\n",
    "        mask = (feat==0)\n",
    "     \n",
    "        #if there are no 0 values left than break\n",
    "        if(mask.sum()==0):\n",
    "            break\n",
    "            \n",
    "        #getting probablities of values where 0 is present that is our blank values we need to fill\n",
    "        prob_new = prob*mask\n",
    "    \n",
    "        #getting highest probablity index\n",
    "        ind = np.argmax(prob_new)\n",
    "        #getting row and col \n",
    "        x, y = (ind//9), (ind%9)\n",
    "        \n",
    "        #getting predicted value at that cell\n",
    "        val = pred[x][y]\n",
    "        #assigning that value\n",
    "        feat[x][y] = val\n",
    "        #again passing this sudoku with one value added to model to get next most confident value\n",
    "        feat = norm(feat)\n",
    "    \n",
    "    return pred"
   ]
  },
  {
   "cell_type": "code",
   "execution_count": 20,
   "id": "28daff87",
   "metadata": {},
   "outputs": [],
   "source": [
    "def test_accuracy(feats, labels):\n",
    "    \n",
    "    correct = 0\n",
    "    \n",
    "    for i,feat in enumerate(feats):\n",
    "        \n",
    "        pred = inference_sudoku(feat)\n",
    "        \n",
    "        true = labels[i].reshape((9,9))+1\n",
    "        \n",
    "        if(abs(true - pred).sum()==0):\n",
    "            correct += 1\n",
    "        \n",
    "    print(correct/feats.shape[0])"
   ]
  },
  {
   "cell_type": "code",
   "execution_count": null,
   "id": "be8495bc",
   "metadata": {},
   "outputs": [],
   "source": [
    "test_accuracy(X_test[:100], y_test[:100])"
   ]
  },
  {
   "cell_type": "code",
   "execution_count": null,
   "id": "7d045e2b",
   "metadata": {},
   "outputs": [],
   "source": [
    "def solve_sudoku(game):\n",
    "    \n",
    "    game = game.replace('\\n', '')\n",
    "    game = game.replace(' ', '')\n",
    "    game = np.array([int(j) for j in game]).reshape((9,9,1))\n",
    "    game = norm(game)\n",
    "    game = inference_sudoku(game)\n",
    "    return game"
   ]
  },
  {
   "cell_type": "code",
   "execution_count": null,
   "id": "413531f0",
   "metadata": {},
   "outputs": [],
   "source": [
    "game = '''\n",
    "          0 8 0 0 3 2 0 0 1\n",
    "          7 0 3 0 8 0 0 0 2\n",
    "          5 0 0 0 0 7 0 3 0\n",
    "          0 5 0 0 0 1 9 7 0\n",
    "          6 0 0 7 0 9 0 0 8\n",
    "          0 4 7 2 0 0 0 5 0\n",
    "          0 2 0 6 0 0 0 0 9\n",
    "          8 0 0 0 9 0 3 0 5\n",
    "          3 0 0 8 2 0 0 1 0\n",
    "      '''\n",
    "\n",
    "game = solve_sudoku(game)\n",
    "\n",
    "print('solved puzzle:\\n')\n",
    "# print(game)"
   ]
  },
  {
   "cell_type": "code",
   "execution_count": null,
   "id": "e6e35c04",
   "metadata": {},
   "outputs": [],
   "source": [
    "for i in game:\n",
    "    print(i)"
   ]
  },
  {
   "cell_type": "code",
   "execution_count": null,
   "id": "cce6ab51",
   "metadata": {},
   "outputs": [],
   "source": [
    "np.sum(game, axis=1)"
   ]
  },
  {
   "cell_type": "code",
   "execution_count": null,
   "id": "c3bdd698",
   "metadata": {},
   "outputs": [],
   "source": []
  }
 ],
 "metadata": {
  "kernelspec": {
   "display_name": "Python 3 (ipykernel)",
   "language": "python",
   "name": "python3"
  },
  "language_info": {
   "codemirror_mode": {
    "name": "ipython",
    "version": 3
   },
   "file_extension": ".py",
   "mimetype": "text/x-python",
   "name": "python",
   "nbconvert_exporter": "python",
   "pygments_lexer": "ipython3",
   "version": "3.9.13"
  }
 },
 "nbformat": 4,
 "nbformat_minor": 5
}
